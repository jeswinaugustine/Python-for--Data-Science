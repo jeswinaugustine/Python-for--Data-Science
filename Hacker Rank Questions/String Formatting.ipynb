{
 "cells": [
  {
   "cell_type": "markdown",
   "metadata": {},
   "source": [
    "## String Formatting"
   ]
  },
  {
   "cell_type": "markdown",
   "metadata": {},
   "source": [
    "Given an integer, , print the following values for each integer from to\n",
    "\n",
    ":\n",
    "\n",
    "    Decimal\n",
    "    Octal\n",
    "    Hexadecimal (capitalized)\n",
    "    Binary\n",
    "\n",
    "Function Description\n",
    "\n",
    "Complete the print_formatted function in the editor below.\n",
    "\n",
    "print_formatted has the following parameters:\n",
    "\n",
    "    int number: the maximum value to print\n",
    "\n",
    "Prints\n",
    "\n",
    "The four values must be printed on a single line in the order specified above for each\n",
    "from to . Each value should be space-padded to match the width of the binary value of\n",
    "\n",
    "and the values should be separated by a single space.\n",
    "\n",
    "Input Format\n",
    "\n",
    "A single integer denoting\n",
    "\n",
    ".\n",
    "\n",
    "Constraints\n",
    "\n",
    "Sample Input\n",
    "\n",
    "17\n",
    "\n",
    "Sample Output\n",
    "\n",
    "    1     1     1     1\n",
    "    2     2     2    10\n",
    "    3     3     3    11\n",
    "    4     4     4   100\n",
    "    5     5     5   101\n",
    "    6     6     6   110\n",
    "    7     7     7   111\n",
    "    8    10     8  1000\n",
    "    9    11     9  1001\n",
    "   10    12     A  1010\n",
    "   11    13     B  1011\n",
    "   12    14     C  1100\n",
    "   13    15     D  1101\n",
    "   14    16     E  1110\n",
    "   15    17     F  1111\n",
    "   16    20    10 10000\n",
    "   17    21    11 10001\n"
   ]
  },
  {
   "cell_type": "code",
   "execution_count": 1,
   "metadata": {},
   "outputs": [
    {
     "name": "stdout",
     "output_type": "stream",
     "text": [
      "17\n"
     ]
    }
   ],
   "source": [
    "N = int(input())"
   ]
  },
  {
   "cell_type": "code",
   "execution_count": 22,
   "metadata": {},
   "outputs": [],
   "source": [
    "space = len(bin(N)[2:])+1"
   ]
  },
  {
   "cell_type": "code",
   "execution_count": 23,
   "metadata": {},
   "outputs": [
    {
     "name": "stdout",
     "output_type": "stream",
     "text": [
      "     1      1      1      1 \n",
      "     2      2      2     10 \n",
      "     3      3      3     11 \n",
      "     4      4      4    100 \n",
      "     5      5      5    101 \n",
      "     6      6      6    110 \n",
      "     7      7      7    111 \n",
      "     8     10      8   1000 \n",
      "     9     11      9   1001 \n",
      "    10     12      A   1010 \n",
      "    11     13      B   1011 \n",
      "    12     14      C   1100 \n",
      "    13     15      D   1101 \n",
      "    14     16      E   1110 \n",
      "    15     17      F   1111 \n",
      "    16     20     10  10000 \n",
      "    17     21     11  10001 \n"
     ]
    }
   ],
   "source": [
    "for i in range(1,N+1):\n",
    "    print(str(i).rjust(space,' '),end=\" \")\n",
    "    print(oct(i)[2:].rjust(space,' '),end=\" \")\n",
    "    print(((hex(i)[2:]).upper()).rjust(space,' '),end=\" \")\n",
    "    print(bin(i)[2:].rjust(space,' '),end=\" \")\n",
    "    print(\"\")\n",
    "   "
   ]
  },
  {
   "cell_type": "code",
   "execution_count": null,
   "metadata": {},
   "outputs": [],
   "source": []
  },
  {
   "cell_type": "code",
   "execution_count": null,
   "metadata": {},
   "outputs": [],
   "source": []
  },
  {
   "cell_type": "code",
   "execution_count": null,
   "metadata": {},
   "outputs": [],
   "source": []
  }
 ],
 "metadata": {
  "kernelspec": {
   "display_name": "Python 3",
   "language": "python",
   "name": "python3"
  },
  "language_info": {
   "codemirror_mode": {
    "name": "ipython",
    "version": 3
   },
   "file_extension": ".py",
   "mimetype": "text/x-python",
   "name": "python",
   "nbconvert_exporter": "python",
   "pygments_lexer": "ipython3",
   "version": "3.8.5"
  }
 },
 "nbformat": 4,
 "nbformat_minor": 4
}
